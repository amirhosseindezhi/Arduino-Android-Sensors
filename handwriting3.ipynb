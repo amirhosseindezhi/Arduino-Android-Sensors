{
  "nbformat": 4,
  "nbformat_minor": 0,
  "metadata": {
    "colab": {
      "name": "Copy of handwritting.ipynb",
      "version": "0.3.2",
      "provenance": [],
      "collapsed_sections": [],
      "toc_visible": true,
      "include_colab_link": true
    },
    "kernelspec": {
      "name": "python3",
      "display_name": "Python 3"
    },
    "accelerator": "GPU"
  },
  "cells": [
    {
      "cell_type": "markdown",
      "metadata": {
        "id": "view-in-github",
        "colab_type": "text"
      },
      "source": [
        "<a href=\"https://colab.research.google.com/github/the-real-dezhi/Arduino-Android-Sensors/blob/master/handwriting3.ipynb\" target=\"_parent\"><img src=\"https://colab.research.google.com/assets/colab-badge.svg\" alt=\"Open In Colab\"/></a>"
      ]
    },
    {
      "cell_type": "markdown",
      "metadata": {
        "id": "u23OS3jgNGzR",
        "colab_type": "text"
      },
      "source": [
        "# **1 Preprocessing Stage**\n",
        "The preprocessing of the dataset is one of the most important and time-consuming steps of any deep learning project. Most of the time, we have a dataset that is not well-processed and ready to be fed into a neural network. Sometimes, the data might even be clean and organized, but not suitable to fit to our problem.\n",
        "\n",
        "In this scenario, we have a dataset of Persian handwritten digits and we want to recognize digits only by looking at their image. Here is a brief stat of our dataset:\n"
      ]
    },
    {
      "cell_type": "code",
      "metadata": {
        "id": "tSZ2BkPyT712",
        "colab_type": "code",
        "outputId": "11bb491a-fff4-48e1-d8c4-2abce529c2af",
        "colab": {
          "base_uri": "https://localhost:8080/",
          "height": 87
        }
      },
      "source": [
        "# Download the dataset and unzip\n",
        "! wget -q http://iust-deep-learning.github.io/972/static_files/assignments/asg01_assets/data.zip\n",
        "! unzip data.zip -d ."
      ],
      "execution_count": 0,
      "outputs": [
        {
          "output_type": "stream",
          "text": [
            "Archive:  data.zip\n",
            "  inflating: ./test.cdb              \n",
            "  inflating: ./train.cdb             \n",
            "  inflating: ./util.py               \n"
          ],
          "name": "stdout"
        }
      ]
    },
    {
      "cell_type": "markdown",
      "metadata": {
        "id": "3HVKdbPbQRR_",
        "colab_type": "text"
      },
      "source": [
        " we have to import some prerequisites:"
      ]
    },
    {
      "cell_type": "code",
      "metadata": {
        "id": "_bsmb0jFPzlu",
        "colab_type": "code",
        "outputId": "1806a504-ef63-4b0b-e896-7a78059106f8",
        "colab": {
          "base_uri": "https://localhost:8080/",
          "height": 35
        }
      },
      "source": [
        "import random\n",
        "import numpy as np\n",
        "import matplotlib.pyplot as plt\n",
        "plt.rcParams['figure.figsize'] = (7,9) # Make the figures a bit bigger\n",
        "import cv2\n",
        "from keras.utils import to_categorical\n",
        "\n",
        "from util import read_raw_dataset"
      ],
      "execution_count": 0,
      "outputs": [
        {
          "output_type": "stream",
          "text": [
            "Using TensorFlow backend.\n"
          ],
          "name": "stderr"
        }
      ]
    },
    {
      "cell_type": "markdown",
      "metadata": {
        "id": "pz4z_6REQLJX",
        "colab_type": "text"
      },
      "source": [
        "Let's load the dataset using the provided function read_raw_dataset:\n",
        "\n"
      ]
    },
    {
      "cell_type": "code",
      "metadata": {
        "id": "IzU6qLiIP4x3",
        "colab_type": "code",
        "outputId": "234f20ba-e766-4073-ccc2-435b89579ef6",
        "colab": {
          "base_uri": "https://localhost:8080/",
          "height": 158
        }
      },
      "source": [
        "\n",
        "ds_images, ds_labels = read_raw_dataset(\"train.cdb\")\n",
        "\n",
        "print(\"Images:\")\n",
        "print(type(ds_images))\n",
        "print(len(ds_images))\n",
        "print(type(ds_images[0]))\n",
        "print(ds_images[0].shape)\n",
        "\n",
        "print(\"\\nLabels:\")\n",
        "print(ds_labels[:30])"
      ],
      "execution_count": 0,
      "outputs": [
        {
          "output_type": "stream",
          "text": [
            "Images:\n",
            "<class 'list'>\n",
            "60000\n",
            "<class 'numpy.ndarray'>\n",
            "(27, 20)\n",
            "\n",
            "Labels:\n",
            "[6, 5, 0, 2, 7, 0, 7, 5, 0, 7, 0, 6, 3, 6, 5, 5, 3, 3, 2, 9, 6, 3, 4, 4, 0, 7, 2, 7, 8, 6]\n"
          ],
          "name": "stdout"
        }
      ]
    },
    {
      "cell_type": "markdown",
      "metadata": {
        "id": "VG9Pb6wnNWj5",
        "colab_type": "text"
      },
      "source": [
        "As you can see, train_images is a list of images and train_labels contains the labels for each element in the image list. Each image is represented as 2D (numpy) array of floats/ints.\n",
        "\n",
        "So, lets look at some of the images:"
      ]
    },
    {
      "cell_type": "code",
      "metadata": {
        "id": "nqDob5S5QZ8T",
        "colab_type": "code",
        "outputId": "75a22c9c-cce3-478a-8918-78dff05aa2a4",
        "colab": {
          "base_uri": "https://localhost:8080/",
          "height": 499
        }
      },
      "source": [
        "# Randomly sample images, Re run the cell to see new images.\n",
        "plt.figure(figsize=(12,8))\n",
        "for i, index in enumerate(random.sample(list(range(len(ds_images))), 10)):\n",
        "    plt.subplot(2,5,i+1)\n",
        "    plt.imshow(ds_images[index], cmap='gray', interpolation='none')\n",
        "    plt.title(\"Label {}\".format(ds_labels[index]))"
      ],
      "execution_count": 0,
      "outputs": [
        {
          "output_type": "display_data",
          "data": {
            "image/png": "[encoded data removed]",
            "text/plain": [
              "<Figure size 864x576 with 10 Axes>"
            ]
          },
          "metadata": {
            "tags": []
          }
        }
      ]
    },
    {
      "cell_type": "markdown",
      "metadata": {
        "id": "3NjYlhvKvEaj",
        "colab_type": "text"
      },
      "source": [
        "Pretty great! ha? But it seems images are not in a fixed dimension. Let's check our hypothesis:\n",
        "\n"
      ]
    },
    {
      "cell_type": "code",
      "metadata": {
        "id": "FGZccBgnkpZr",
        "colab_type": "code",
        "outputId": "0494d56a-a04a-488d-82e7-7a1eaf1ba932",
        "colab": {
          "base_uri": "https://localhost:8080/",
          "height": 72
        }
      },
      "source": [
        "unique_heights = list(set([m.shape[0] for m in ds_images]))\n",
        "print(\"unique heights:\", unique_heights)\n",
        "\n",
        "unique_widths = list(set([m.shape[1] for m in ds_images]))\n",
        "print(\"unique widths:\", unique_widths)"
      ],
      "execution_count": 0,
      "outputs": [
        {
          "output_type": "stream",
          "text": [
            "unique heights: [4, 5, 6, 7, 8, 9, 10, 11, 12, 13, 14, 15, 16, 17, 18, 19, 20, 21, 22, 23, 24, 25, 26, 27, 28, 29, 30, 31, 32, 33, 34, 35, 36, 37, 38, 39, 40, 41, 42, 43, 44, 45, 46, 47, 48, 49, 50, 51, 52, 53, 54, 55, 56, 57, 58, 59, 60, 61, 62]\n",
            "unique widths: [3, 4, 5, 6, 7, 8, 9, 10, 11, 12, 13, 14, 15, 16, 17, 18, 19, 20, 21, 22, 23, 24, 25, 26, 27, 28, 29, 30, 31, 32, 33, 34, 35, 36, 37, 38, 39, 40, 41, 42, 43, 44, 45, 46, 47, 48, 50, 51]\n"
          ],
          "name": "stdout"
        }
      ]
    },
    {
      "cell_type": "markdown",
      "metadata": {
        "id": "zdOBf8xQvKZT",
        "colab_type": "text"
      },
      "source": [
        "Unfortunately, the images in our dataset do not have equal dimensions. So, we have to implement a function to fit the image in a fixed frame.\n",
        "\n",
        "Note: There might be a situation where the image is bigger than the frame size; So, we first need to scale it down and then fit it into a fixed frame."
      ]
    },
    {
      "cell_type": "code",
      "metadata": {
        "id": "XH1wtxfwvLMw",
        "colab_type": "code",
        "colab": {}
      },
      "source": [
        "def fit_and_resize_image(src_image, dst_image_size):\n",
        "\n",
        "  dst_image_height = 32\n",
        "  dst_image_width = dst_image_height\n",
        "    \n",
        "  src_image_height = src_image.shape[0]\n",
        "  src_image_width = src_image.shape[1]\n",
        "\n",
        "  if src_image_height > dst_image_height or src_image_width > dst_image_width:\n",
        "      height_scale = dst_image_height / src_image_height\n",
        "      width_scale = dst_image_width / src_image_width\n",
        "      scale = min(height_scale, width_scale)\n",
        "      img = cv2.resize(src=src_image, dsize=(0, 0), fx=scale, fy=scale, interpolation=cv2.INTER_CUBIC)\n",
        "  else:\n",
        "      img = src_image\n",
        "\n",
        "  img_height = img.shape[0]\n",
        "  img_width = img.shape[1]\n",
        "\n",
        "  dst_image = np.zeros(shape=[dst_image_height, dst_image_width], dtype=np.uint8)\n",
        "\n",
        "  y_offset = (dst_image_height - img_height) // 2\n",
        "  x_offset = (dst_image_width - img_width) // 2\n",
        "\n",
        "  dst_image[y_offset:y_offset+img_height, x_offset:x_offset+img_width] = img\n",
        "\n",
        "  return dst_image"
      ],
      "execution_count": 0,
      "outputs": []
    },
    {
      "cell_type": "code",
      "metadata": {
        "id": "GO21lmEGvR11",
        "colab_type": "code",
        "colab": {}
      },
      "source": [
        "# Define a constant for our image size.\n",
        "IMAGE_SIZE = 32"
      ],
      "execution_count": 0,
      "outputs": []
    },
    {
      "cell_type": "code",
      "metadata": {
        "id": "UOfawFO9vVas",
        "colab_type": "code",
        "outputId": "be5aad09-c028-461e-ce88-9fb38e14e184",
        "colab": {
          "base_uri": "https://localhost:8080/",
          "height": 366
        }
      },
      "source": [
        "plt.subplot(1,2,1); plt.imshow(ds_images[72], cmap='gray', interpolation='none'); plt.title('Before')\n",
        "plt.subplot(1,2,2); plt.imshow(fit_and_resize_image(ds_images[72], IMAGE_SIZE), cmap='gray', interpolation='none'); plt.title('After')"
      ],
      "execution_count": 0,
      "outputs": [
        {
          "output_type": "execute_result",
          "data": {
            "text/plain": [
              "Text(0.5, 1.0, 'After')"
            ]
          },
          "metadata": {
            "tags": []
          },
          "execution_count": 8
        },
        {
          "output_type": "display_data",
          "data": {
            "image/png": "[encoded data removed]",
            "text/plain": [
              "<Figure size 504x648 with 2 Axes>"
            ]
          },
          "metadata": {
            "tags": []
          }
        }
      ]
    },
    {
      "cell_type": "markdown",
      "metadata": {
        "id": "5ESfY1BMxpCt",
        "colab_type": "text"
      },
      "source": [
        " Now it's time to use that and create a function to read the dataset, process it, and return it as a Numpy array. As you may have noticed, image values are in the 0-255 range (0 is black and 255 is white). Generally, we first normalize our input when we want to feed them into a neural network. So, don't forget to normalize the images.\n",
        "\n",
        "Note: When we're solving a multi-label classification probelm it is important for the labels to be in one-hot format. So we need to convert them to one-hot format before returning the function."
      ]
    },
    {
      "cell_type": "code",
      "metadata": {
        "id": "kaXRIdbTxn13",
        "colab_type": "code",
        "colab": {}
      },
      "source": [
        "def read_dataset(dataset_path, images_size=32):\n",
        "  \n",
        "  \"\"\"\n",
        "  Read & process Persian handwritten digits dataset\n",
        "  \n",
        "  Args:\n",
        "    dataset_path: path to dataset file\n",
        "    image_size: size that should be fixed for all images.\n",
        "    \n",
        "  Returns:\n",
        "    X: numpy ndarry with shape (num_samples, images_size, images_size) for normalized images \n",
        "    y: numpy ndarry with shape (num_samples, 10) for labels in one-hot format\n",
        "  \"\"\"\n",
        "  \n",
        "  images, labels = read_raw_dataset(dataset_path)\n",
        "\n",
        "  X = np.zeros(shape=[len(images), images_size, images_size], dtype=np.float32)\n",
        "\n",
        "  for i, img in enumerate(images):\n",
        "    X[i] = fit_and_resize_image(img, IMAGE_SIZE) / 255.0\n",
        "  \n",
        "  Y = to_categorical(labels, num_classes=10, dtype=np.int)\n",
        "  \n",
        "  return X, Y"
      ],
      "execution_count": 0,
      "outputs": []
    },
    {
      "cell_type": "markdown",
      "metadata": {
        "id": "HgxvttmCzakr",
        "colab_type": "text"
      },
      "source": [
        "\n",
        "**Why should we normalize images to the [0-1] range?**\n",
        "Normalizing inputs make them have similar scales. This property will lead to a symmetric cost function, which is easier and faster to optimize."
      ]
    },
    {
      "cell_type": "markdown",
      "metadata": {
        "id": "QR3HtA0OzoZ7",
        "colab_type": "text"
      },
      "source": [
        "Great! Now we have everything ready to build our neural network.\n",
        "\n"
      ]
    },
    {
      "cell_type": "code",
      "metadata": {
        "id": "jZCLhHSFwo5L",
        "colab_type": "code",
        "colab": {}
      },
      "source": [
        "train_images, train_labels = read_dataset(\"train.cdb\", IMAGE_SIZE)\n",
        "test_images, test_labels = read_dataset(\"test.cdb\", IMAGE_SIZE)\n",
        "\n",
        "assert train_images.shape == (60000, IMAGE_SIZE, IMAGE_SIZE)\n",
        "assert test_images.shape == (20000, IMAGE_SIZE, IMAGE_SIZE)\n",
        "\n",
        "assert train_labels.shape == (60000, 10)\n",
        "assert test_labels.shape == (20000, 10)\n",
        "\n",
        "assert train_images.mean() > 0.0\n",
        "assert test_images.mean() > 0.0\n",
        "\n",
        "assert 0. <= train_images.min() and train_images.max() <= 1\n",
        "assert 0. <= test_images.min() and test_images.max() <= 1"
      ],
      "execution_count": 0,
      "outputs": []
    },
    {
      "cell_type": "code",
      "metadata": {
        "id": "4-seuosOzqla",
        "colab_type": "code",
        "outputId": "3445ee44-60c9-4cfa-9ceb-c77c0aee3ff0",
        "colab": {
          "base_uri": "https://localhost:8080/",
          "height": 465
        }
      },
      "source": [
        "plt.figure(figsize=(10,8))\n",
        "for i, index in enumerate(random.sample(list(range(len(train_images))), 6)):\n",
        "    plt.subplot(2,3,i+1)\n",
        "    plt.imshow(train_images[index], cmap='gray', interpolation='none')\n",
        "    plt.title(\"Label {}\".format(str(np.argmax(train_labels[index]))))"
      ],
      "execution_count": 0,
      "outputs": [
        {
          "output_type": "display_data",
          "data": {
            "image/png": "[encoded data removed]",
            "text/plain": [
              "<Figure size 720x576 with 6 Axes>"
            ]
          },
          "metadata": {
            "tags": []
          }
        }
      ]
    },
    {
      "cell_type": "markdown",
      "metadata": {
        "id": "purPmTt3z0x3",
        "colab_type": "text"
      },
      "source": [
        "# **2 Building the model**\n",
        "\n",
        "In class, we exclusively used Keras Layers API to build a neural network; but, now, we want to get a little deeper and see what's going on behind this API.\n",
        "\n",
        "## **2.1 Low level implementation**\n",
        "When we code in Keras, we are simply stacking up layer instances. However the implementation of neural networks is basically nothing but matrix multiplication and applying functions on them. Deep learning libraries are made to perform matrix multiplication in the first place; so, each of these frameworks should be equipped with matrix manipulation tools and APIs. Keras is no exception.\n",
        "\n",
        "Perhaps you might think that Keras library has much higher level abstractions which makes significantly easier to work with. So, why do we have to learn low-level APIs? The point is that there are situations that we need low-level APIs. For example:\n",
        "\n",
        "\n",
        "\n",
        "*   Sometimes the layers we want to use are not included in the default Keras implementation thus we have to implement them by ourselves.\n",
        "\n",
        "*   More importantly, other deep learning frameworks such as Tensorflow and Pytorch are more commonly used in low-level mode. Learning such APIs will enable us to better understand the source codes of papers and existing projects available on the Internet.\n",
        "\n",
        "\n",
        "\n",
        "Before starting to code, let's review some of the mathematics behind neural networks. We store connection's weights between layers in the shape of a matrix. Also, we represent layer bais as a matrix too. Here is an example:\n",
        "![alt text](https://github.com/the-real-dezhi/deep-farsi/blob/master/nn_weight.jpg)\n",
        "\n",
        "Suppose we have two layers in a neural network. Let  x∈R(N×1)  be the activations of the previous layer with  N  nodes,  W  be the weight of connections and  B be the bais for the current layer. Write an algebraic equation for the current layer with  M  nodes and activations  h . Also, specify dimensions of matrices  W,B,h :\n",
        "![alt text](https://github.com/the-real-dezhi/deep-farsi/blob/master/2019-07-07_14-18-53.png)\n",
        "\n",
        "Please note that Broadcasting is used to calculate the sum of  WT.x  and  B \n",
        "\n",
        "But, computers, especially GPUs, are much more efficient in parallel computing. So, instead of feeding single input  x→  through our neural network, why not feed them a batch? Thus, the input vector  x→∈RN×1  will be a matrix in the shape of  Rb×N  ( b  is the batch size) and each individual input will be one of  x  rows.\n",
        "\n",
        "Rewritre equation for  h  above and specify the dimensions of matrices  W,B,h \n",
        "\n",
        "![alt text](https://github.com/the-real-dezhi/deep-farsi/blob/master/2019-07-07_14-19-09.png)\n",
        "\n",
        "Please note that Broadcasting is used to calculate the sum of  x.W  and  B"
      ]
    },
    {
      "cell_type": "code",
      "metadata": {
        "id": "m8vKWMhF3WBv",
        "colab_type": "code",
        "colab": {}
      },
      "source": [
        "from keras import backend as K\n",
        "from keras.layers import Layer, Dense, Dropout\n",
        "from keras.models import Sequential\n",
        "from keras.utils.layer_utils import count_params\n",
        "\n",
        "from util import BaseModel"
      ],
      "execution_count": 0,
      "outputs": []
    },
    {
      "cell_type": "markdown",
      "metadata": {
        "id": "4WdAABNH3anZ",
        "colab_type": "text"
      },
      "source": [
        "Here is the model class that we're going to implement. LowLevelMLP is a simple MLP network with a configurable number of hidden layers. To complete this section you need to fill its two methods __init__() and build_model(). We use  __init__ to define networks weights and build_model() to specify operations between input and model weights to create the output.\n"
      ]
    },
    {
      "cell_type": "code",
      "metadata": {
        "id": "eCBx7ghz3b2M",
        "colab_type": "code",
        "colab": {}
      },
      "source": [
        "#model configuration\n",
        "HIDDEN_LAYERS = [512, 128]\n",
        "NUM_CLASSES = 10\n",
        "NUM_EPOCH = 20\n",
        "BATCH_SIZE = 512"
      ],
      "execution_count": 0,
      "outputs": []
    },
    {
      "cell_type": "code",
      "metadata": {
        "id": "eAoQBRXO3qiO",
        "colab_type": "code",
        "outputId": "f5034a81-fa05-438f-a6db-fa78d38bc784",
        "colab": {
          "base_uri": "https://localhost:8080/",
          "height": 231
        }
      },
      "source": [
        "class LowLevelMLP(BaseModel):\n",
        "  \n",
        "  def __init__(self, input_shape, hidden_layers, num_classes=10):\n",
        "    \"\"\"\n",
        "    Initiate model with provided configuration\n",
        "    Args:\n",
        "      input_shape: size of input vector\n",
        "      hidden_layers: a list of integer, specify num hidden layer node from left to right,\n",
        "                     e.x.: [512, 128, ...]\n",
        "      num_classes: an integer defining number of classes, this is the number of model ouput nodes\n",
        "    \"\"\"\n",
        "    super(LowLevelMLP, self).__init__()\n",
        "    \n",
        "    self._input_shape = input_shape\n",
        "    self._hidden_layers = hidden_layers\n",
        "    self._num_classes = num_classes\n",
        "    \n",
        "    # Define model weights & biases according to self.hidden_layers and self.num_classes \n",
        "    # To create weight you can use self.add_weight\n",
        "    \n",
        "    self._model_weights = []\n",
        "    self._model_baiases = []\n",
        "\n",
        "    last_input_size = input_shape\n",
        "    for h in self._hidden_layers + [num_classes]:\n",
        "      self._model_weights.append(self.add_weight(\n",
        "          name='hid_%s' % h, \n",
        "          shape=(last_input_size, h), \n",
        "          initializer='glorot_uniform'\n",
        "      ))\n",
        "      self._model_baiases.append(self.add_weight(\n",
        "          name='bias_%s' % h, \n",
        "          shape=(h, ), \n",
        "          initializer='zeros'\n",
        "      ))\n",
        "\n",
        "      last_input_size = h\n",
        "    \n",
        "    \n",
        "  def build_model(self, x):\n",
        "    \"\"\"\n",
        "    The Model logic sits here.\n",
        "    Args:\n",
        "      x: an input tensor in shape of (?, input_size), ? is batch size and will be determined at the training phase\n",
        "         e.x.: x is tensor with shape (?, 784) for the MNIST dataset\n",
        "\n",
        "    Returns:\n",
        "      pred: an output tensor with shape (?, self.num_classes)\n",
        "\n",
        "    \"\"\"\n",
        "\n",
        "    h = x\n",
        "\n",
        "    for w, b in zip(self._model_weights, self._model_baiases):\n",
        "      h = K.relu(K.dot(h, w) + b)\n",
        "\n",
        "    pred = K.softmax(h)\n",
        "\n",
        "    return pred\n",
        "    \n",
        "\n",
        "ll_mlp = LowLevelMLP(IMAGE_SIZE ** 2, HIDDEN_LAYERS, NUM_CLASSES)\n",
        "ll_mlp._model_weights, ll_mlp._model_baiases"
      ],
      "execution_count": 0,
      "outputs": [
        {
          "output_type": "stream",
          "text": [
            "WARNING: Logging before flag parsing goes to stderr.\n",
            "W0709 17:10:02.130039 139738805720960 deprecation_wrapper.py:119] From /usr/local/lib/python3.6/dist-packages/keras/backend/tensorflow_backend.py:74: The name tf.get_default_graph is deprecated. Please use tf.compat.v1.get_default_graph instead.\n",
            "\n",
            "W0709 17:10:02.171862 139738805720960 deprecation_wrapper.py:119] From /usr/local/lib/python3.6/dist-packages/keras/backend/tensorflow_backend.py:4138: The name tf.random_uniform is deprecated. Please use tf.random.uniform instead.\n",
            "\n"
          ],
          "name": "stderr"
        },
        {
          "output_type": "execute_result",
          "data": {
            "text/plain": [
              "([<tf.Variable 'hid_512:0' shape=(1024, 512) dtype=float32_ref>,\n",
              "  <tf.Variable 'hid_128:0' shape=(512, 128) dtype=float32_ref>,\n",
              "  <tf.Variable 'hid_10:0' shape=(128, 10) dtype=float32_ref>],\n",
              " [<tf.Variable 'bias_512:0' shape=(512,) dtype=float32_ref>,\n",
              "  <tf.Variable 'bias_128:0' shape=(128,) dtype=float32_ref>,\n",
              "  <tf.Variable 'bias_10:0' shape=(10,) dtype=float32_ref>])"
            ]
          },
          "metadata": {
            "tags": []
          },
          "execution_count": 14
        }
      ]
    },
    {
      "cell_type": "code",
      "metadata": {
        "id": "HLUZ7meb36Up",
        "colab_type": "code",
        "colab": {}
      },
      "source": [
        "assert  count_params(ll_mlp.trainable_weights) == sum(\n",
        "    [(i*j) for i, j in zip([IMAGE_SIZE ** 2] + HIDDEN_LAYERS, HIDDEN_LAYERS + [NUM_CLASSES])] \n",
        "    + HIDDEN_LAYERS \n",
        "    + [NUM_CLASSES]\n",
        ")"
      ],
      "execution_count": 0,
      "outputs": []
    },
    {
      "cell_type": "code",
      "metadata": {
        "id": "cGvo6W6g3-7_",
        "colab_type": "code",
        "outputId": "d81622ba-3fc4-42e1-efdc-97edc052eab0",
        "colab": {
          "base_uri": "https://localhost:8080/",
          "height": 52
        }
      },
      "source": [
        "# Before start training the model, we need to reshape the input so that each 32x32 image\n",
        "# becomes a single 1024 dimensional vector.\n",
        "\n",
        "x_train = train_images.reshape((-1, IMAGE_SIZE * IMAGE_SIZE))\n",
        "y_train = train_labels.astype('float32')\n",
        "\n",
        "x_test = test_images.reshape((-1, IMAGE_SIZE * IMAGE_SIZE))\n",
        "y_test = test_labels.astype('float32')\n",
        "\n",
        "print(x_train.shape, x_test.shape)\n",
        "print(y_train.shape, y_test.shape)"
      ],
      "execution_count": 0,
      "outputs": [
        {
          "output_type": "stream",
          "text": [
            "(60000, 1024) (20000, 1024)\n",
            "(60000, 10) (20000, 10)\n"
          ],
          "name": "stdout"
        }
      ]
    },
    {
      "cell_type": "code",
      "metadata": {
        "id": "TpQGGDhq4B9i",
        "colab_type": "code",
        "outputId": "9b633873-4f8e-43f7-f4a3-40db899212ff",
        "colab": {
          "base_uri": "https://localhost:8080/",
          "height": 952
        }
      },
      "source": [
        "ll_mlp.compile(optimizer='rmsprop', loss='categorical_crossentropy', metrics=['accuracy'])\n",
        "ll_mlp_history = ll_mlp.fit(x_train, y_train, epochs=NUM_EPOCH, batch_size=BATCH_SIZE, validation_data=(x_test, y_test))"
      ],
      "execution_count": 0,
      "outputs": [
        {
          "output_type": "stream",
          "text": [
            "W0709 17:11:17.608830 139738805720960 deprecation_wrapper.py:119] From /usr/local/lib/python3.6/dist-packages/keras/optimizers.py:790: The name tf.train.Optimizer is deprecated. Please use tf.compat.v1.train.Optimizer instead.\n",
            "\n",
            "W0709 17:11:17.626014 139738805720960 deprecation_wrapper.py:119] From /usr/local/lib/python3.6/dist-packages/keras/backend/tensorflow_backend.py:517: The name tf.placeholder is deprecated. Please use tf.compat.v1.placeholder instead.\n",
            "\n",
            "W0709 17:11:17.650423 139738805720960 deprecation_wrapper.py:119] From /usr/local/lib/python3.6/dist-packages/keras/backend/tensorflow_backend.py:3295: The name tf.log is deprecated. Please use tf.math.log instead.\n",
            "\n",
            "W0709 17:11:17.756893 139738805720960 deprecation.py:323] From /usr/local/lib/python3.6/dist-packages/tensorflow/python/ops/math_grad.py:1250: add_dispatch_support.<locals>.wrapper (from tensorflow.python.ops.array_ops) is deprecated and will be removed in a future version.\n",
            "Instructions for updating:\n",
            "Use tf.where in 2.0, which has the same broadcast rule as np.where\n",
            "W0709 17:11:17.833935 139738805720960 deprecation_wrapper.py:119] From /usr/local/lib/python3.6/dist-packages/keras/backend/tensorflow_backend.py:986: The name tf.assign_add is deprecated. Please use tf.compat.v1.assign_add instead.\n",
            "\n"
          ],
          "name": "stderr"
        },
        {
          "output_type": "stream",
          "text": [
            "Train on 60000 samples, validate on 20000 samples\n",
            "Epoch 1/20\n",
            "60000/60000 [==============================] - 5s 79us/step - loss: 1.0461 - acc: 0.5746 - val_loss: 1.0219 - val_acc: 0.5764\n",
            "Epoch 2/20\n",
            "60000/60000 [==============================] - 1s 12us/step - loss: 0.9495 - acc: 0.5945 - val_loss: 0.9753 - val_acc: 0.5903\n",
            "Epoch 3/20\n",
            "60000/60000 [==============================] - 1s 12us/step - loss: 0.9361 - acc: 0.5969 - val_loss: 0.9938 - val_acc: 0.5877\n",
            "Epoch 4/20\n",
            "60000/60000 [==============================] - 1s 11us/step - loss: 0.9308 - acc: 0.5981 - val_loss: 0.9742 - val_acc: 0.5908\n",
            "Epoch 5/20\n",
            "60000/60000 [==============================] - 1s 10us/step - loss: 0.9273 - acc: 0.5986 - val_loss: 0.9641 - val_acc: 0.5915\n",
            "Epoch 6/20\n",
            "60000/60000 [==============================] - 1s 10us/step - loss: 0.9261 - acc: 0.5987 - val_loss: 0.9599 - val_acc: 0.5937\n",
            "Epoch 7/20\n",
            "60000/60000 [==============================] - 1s 10us/step - loss: 0.9250 - acc: 0.5989 - val_loss: 0.9669 - val_acc: 0.5927\n",
            "Epoch 8/20\n",
            "60000/60000 [==============================] - 1s 10us/step - loss: 0.9243 - acc: 0.5991 - val_loss: 0.9737 - val_acc: 0.5927\n",
            "Epoch 9/20\n",
            "60000/60000 [==============================] - 1s 10us/step - loss: 0.9236 - acc: 0.5992 - val_loss: 0.9673 - val_acc: 0.5937\n",
            "Epoch 10/20\n",
            "60000/60000 [==============================] - 1s 10us/step - loss: 0.9240 - acc: 0.5993 - val_loss: 0.9657 - val_acc: 0.5933\n",
            "Epoch 11/20\n",
            "60000/60000 [==============================] - 1s 10us/step - loss: 0.9236 - acc: 0.5993 - val_loss: 0.9702 - val_acc: 0.5929\n",
            "Epoch 12/20\n",
            "60000/60000 [==============================] - 1s 10us/step - loss: 0.9236 - acc: 0.5994 - val_loss: 0.9740 - val_acc: 0.5929\n",
            "Epoch 13/20\n",
            "60000/60000 [==============================] - 1s 10us/step - loss: 0.9235 - acc: 0.5992 - val_loss: 0.9690 - val_acc: 0.5931\n",
            "Epoch 14/20\n",
            "60000/60000 [==============================] - 1s 10us/step - loss: 0.9230 - acc: 0.5994 - val_loss: 0.9745 - val_acc: 0.5935\n",
            "Epoch 15/20\n",
            "60000/60000 [==============================] - 1s 10us/step - loss: 0.9231 - acc: 0.5993 - val_loss: 0.9881 - val_acc: 0.5880\n",
            "Epoch 16/20\n",
            "60000/60000 [==============================] - 1s 10us/step - loss: 0.9231 - acc: 0.5993 - val_loss: 0.9751 - val_acc: 0.5928\n",
            "Epoch 17/20\n",
            "60000/60000 [==============================] - 1s 10us/step - loss: 0.9232 - acc: 0.5994 - val_loss: 0.9764 - val_acc: 0.5929\n",
            "Epoch 18/20\n",
            "60000/60000 [==============================] - 1s 10us/step - loss: 0.9228 - acc: 0.5993 - val_loss: 0.9806 - val_acc: 0.5930\n",
            "Epoch 19/20\n",
            "60000/60000 [==============================] - 1s 10us/step - loss: 0.9229 - acc: 0.5994 - val_loss: 0.9850 - val_acc: 0.5927\n",
            "Epoch 20/20\n",
            "60000/60000 [==============================] - 1s 10us/step - loss: 0.9228 - acc: 0.5994 - val_loss: 0.9819 - val_acc: 0.5935\n"
          ],
          "name": "stdout"
        }
      ]
    },
    {
      "cell_type": "markdown",
      "metadata": {
        "id": "TGU10WWY4Gg-",
        "colab_type": "text"
      },
      "source": [
        "Now visualize the traning:\n",
        "\n"
      ]
    },
    {
      "cell_type": "code",
      "metadata": {
        "id": "jzGjx3RB4ECc",
        "colab_type": "code",
        "colab": {}
      },
      "source": [
        "def visualize_loss_and_acc(history):\n",
        "  history_dict = history.history\n",
        "  loss_values = history_dict['loss']\n",
        "  val_loss_values = history_dict['val_loss']\n",
        "  acc = history_dict['acc']\n",
        "\n",
        "  epochs = range(1, len(acc) + 1)\n",
        "\n",
        "  f = plt.figure(figsize=(10,3))\n",
        "\n",
        "  plt.subplot(1,2,1)\n",
        "  plt.plot(epochs, loss_values, 'bo', label='Training loss')\n",
        "  plt.plot(epochs, val_loss_values, 'b', label='Validation loss')\n",
        "  plt.title('Training and validation loss')\n",
        "  plt.xlabel('Epochs')\n",
        "  plt.ylabel('Loss')\n",
        "  plt.legend()\n",
        "\n",
        "\n",
        "  acc_values = history_dict['acc']\n",
        "  val_acc = history_dict['val_acc']\n",
        "\n",
        "  plt.subplot(1,2,2)\n",
        "  plt.plot(epochs, acc, 'bo', label='Training acc')\n",
        "  plt.plot(epochs, val_acc, 'b', label='Validation acc')\n",
        "  plt.title('Training and validation accuracy')\n",
        "  plt.xlabel('Epochs')\n",
        "  plt.ylabel('Loss')\n",
        "  plt.legend()\n",
        "\n",
        "  plt.show()"
      ],
      "execution_count": 0,
      "outputs": []
    },
    {
      "cell_type": "code",
      "metadata": {
        "id": "mmXCgmgC4J7D",
        "colab_type": "code",
        "outputId": "8a2e3791-f42f-47d2-b449-e4ab43065144",
        "colab": {
          "base_uri": "https://localhost:8080/",
          "height": 241
        }
      },
      "source": [
        "visualize_loss_and_acc(ll_mlp_history)\n"
      ],
      "execution_count": 0,
      "outputs": [
        {
          "output_type": "display_data",
          "data": {
            "image/png": "[encoded data removed]",
            "text/plain": [
              "<Figure size 720x216 with 2 Axes>"
            ]
          },
          "metadata": {
            "tags": []
          }
        }
      ]
    },
    {
      "cell_type": "code",
      "metadata": {
        "id": "jTOzpB9v4OMc",
        "colab_type": "code",
        "colab": {}
      },
      "source": [
        "#save weights of our network\n",
        "ll_mlp.save_weights('ll_mlp.h5')"
      ],
      "execution_count": 0,
      "outputs": []
    },
    {
      "cell_type": "markdown",
      "metadata": {
        "id": "djmEVxjd485x",
        "colab_type": "text"
      },
      "source": [
        "## **2.2 Custom Layer: Softmax**\n",
        "In this section, we're going to implement A custom Keras layer, A much realistic situation. For the sake of simplicity, we want to re-implement Softmax Layer. Before going through softmax implementation, let's review some of softmax details:\n",
        "\n",
        "Softmax has an interesting property that is quite useful in practice, Softmax is invariant to constant offsets in the input, that is, for any input vector  x  and any constant  c \n",
        "\n",
        "softmax(x)=softmax(x+c)\n",
        "\n",
        "where  x+c  means adding the constant c to every dimension of  x . we had that:\n",
        "\n",
        "softmax(x)[i]=ex[i]/∑[(j)] ex[j]\n",
        "\n",
        "In practice, we make use of this property and choose  c=−max[i] x[i]  when computing softmax probabilities for numerical stability (i.e., subtracting its maximum element from all elements of  x )."
      ]
    },
    {
      "cell_type": "code",
      "metadata": {
        "id": "2icszhVr4U5k",
        "colab_type": "code",
        "colab": {}
      },
      "source": [
        "class Softmax2D(Layer):\n",
        "  \"\"\"\n",
        "  Softmax activation function, Only works for 2d arrays.\n",
        "  \"\"\"\n",
        "\n",
        "  def __init__(self, **kwargs):\n",
        "    super(Softmax2D, self).__init__(**kwargs)\n",
        "    # We don't have any configuration for this custom layer,\n",
        "    # But in future you should save any configuration related \n",
        "    # to your layer in its constructor\n",
        "    \n",
        "  def compute_output_shape(self, input_shape):\n",
        "    \"\"\"Computes the output shape of the layer.\n",
        "\n",
        "    Assumes that the layer will be built\n",
        "    to match that input shape provided.\n",
        "\n",
        "    Args:\n",
        "      input_shape: Shape tuple (tuple of integers)\n",
        "        or list of shape tuples (one per output tensor of the layer).\n",
        "        Shape tuples can include None for free dimensions,\n",
        "        instead of an integer.\n",
        "\n",
        "    Returns:\n",
        "      An input shape tuple.\n",
        "    \"\"\"\n",
        "    # softmax of course doesn't change input shape, \n",
        "    # so we can simply return input_shape as output shape\n",
        "    return input_shape \n",
        "  \n",
        "  def build(self, input_shape):\n",
        "    \"\"\"\n",
        "    This is where you will define your weights. \n",
        "    This method must set self.built = True at the end, \n",
        "    which can be done by calling super(Softmax2D, self).build().\n",
        "    \n",
        "    Args:\n",
        "      input_shape: Keras tensor (future input to layer)\n",
        "        or list/tuple of Keras tensors to reference\n",
        "        for weight shape computations.\n",
        "    \"\"\"\n",
        "    # As softmax is simple activation layer, we don't need any weight  \n",
        "    # definitions for this layer.\n",
        "    super(Softmax2D, self).build(input_shape)\n",
        "    \n",
        "  def call(self, x):\n",
        "    \"\"\"\n",
        "    This is where the layer's logic lives.\n",
        "    \n",
        "    Args:\n",
        "      x: Input tensor, or list/tuple of input tensors.\n",
        "      \n",
        "    Returns:\n",
        "      A tensor.\n",
        "    \"\"\"\n",
        "    orig_shape = x.shape\n",
        "    \n",
        "    x = x - K.max(x, axis=1, keepdims=True)\n",
        "    x = K.exp(x)\n",
        "    sum_vec = K.sum(x, axis=1, keepdims=True)\n",
        "    x = x / sum_vec\n",
        "    \n",
        "    assert x.shape[1] == orig_shape[1] and len(x.shape) == len(orig_shape)\n",
        "    return x"
      ],
      "execution_count": 0,
      "outputs": []
    },
    {
      "cell_type": "code",
      "metadata": {
        "id": "bq_SkOel6I7N",
        "colab_type": "code",
        "outputId": "ac8aad15-a67e-4d98-b46f-2095a8ce6922",
        "colab": {
          "base_uri": "https://localhost:8080/",
          "height": 70
        }
      },
      "source": [
        "x = K.constant(np.array([[1001, 1002], [3, 4]]))\n",
        "test2 = K.eval(Softmax2D()(x))\n",
        "print(test2)\n",
        "ans2 = np.array([\n",
        "  [0.26894142, 0.73105858],\n",
        "  [0.26894142, 0.73105858]])\n",
        "assert np.allclose(test2, ans2, rtol=1e-05, atol=1e-06)\n",
        "print(\"Passed!\")"
      ],
      "execution_count": 0,
      "outputs": [
        {
          "output_type": "stream",
          "text": [
            "[[0.26894143 0.7310586 ]\n",
            " [0.26894143 0.7310586 ]]\n",
            "Passed!\n"
          ],
          "name": "stdout"
        }
      ]
    },
    {
      "cell_type": "markdown",
      "metadata": {
        "id": "-2F5vyQg6OyI",
        "colab_type": "text"
      },
      "source": [
        "How to use our custom layer in practice?\n",
        "\n"
      ]
    },
    {
      "cell_type": "code",
      "metadata": {
        "id": "MyT_0Zqs6L_N",
        "colab_type": "code",
        "outputId": "3bef9c61-d46d-4267-a366-8e03d92d3dd5",
        "colab": {
          "base_uri": "https://localhost:8080/",
          "height": 739
        }
      },
      "source": [
        "# Create simple MLP network similar to what you implmented in previous section\n",
        "s2d_mlp = Sequential()\n",
        "s2d_mlp.add(Dense(512, activation='relu'))\n",
        "s2d_mlp.add(Dense(128, activation='relu'))\n",
        "s2d_mlp.add(Dense(NUM_CLASSES, activation=None))\n",
        "s2d_mlp.add(Softmax2D()) # This is your custom layer, \n",
        "\n",
        "# compile & train model\n",
        "s2d_mlp.compile(optimizer='rmsprop', loss='categorical_crossentropy', metrics=['accuracy'])\n",
        "s2d_history = s2d_mlp.fit(\n",
        "    x_train, y_train, \n",
        "    epochs=NUM_EPOCH, \n",
        "    batch_size=BATCH_SIZE, \n",
        "    validation_data=(x_test, y_test)\n",
        ")"
      ],
      "execution_count": 0,
      "outputs": [
        {
          "output_type": "stream",
          "text": [
            "Train on 60000 samples, validate on 20000 samples\n",
            "Epoch 1/20\n",
            "60000/60000 [==============================] - 1s 15us/step - loss: 0.2049 - acc: 0.9385 - val_loss: 0.1707 - val_acc: 0.9461\n",
            "Epoch 2/20\n",
            "60000/60000 [==============================] - 1s 12us/step - loss: 0.0596 - acc: 0.9823 - val_loss: 0.1605 - val_acc: 0.9464\n",
            "Epoch 3/20\n",
            "60000/60000 [==============================] - 1s 12us/step - loss: 0.0345 - acc: 0.9894 - val_loss: 0.0839 - val_acc: 0.9749\n",
            "Epoch 4/20\n",
            "60000/60000 [==============================] - 1s 11us/step - loss: 0.0217 - acc: 0.9931 - val_loss: 0.1382 - val_acc: 0.9624\n",
            "Epoch 5/20\n",
            "60000/60000 [==============================] - 1s 11us/step - loss: 0.0154 - acc: 0.9951 - val_loss: 0.0784 - val_acc: 0.9787\n",
            "Epoch 6/20\n",
            "60000/60000 [==============================] - 1s 11us/step - loss: 0.0098 - acc: 0.9968 - val_loss: 0.1225 - val_acc: 0.9694\n",
            "Epoch 7/20\n",
            "60000/60000 [==============================] - 1s 11us/step - loss: 0.0071 - acc: 0.9978 - val_loss: 0.1091 - val_acc: 0.9766\n",
            "Epoch 8/20\n",
            "60000/60000 [==============================] - 1s 11us/step - loss: 0.0053 - acc: 0.9982 - val_loss: 0.0877 - val_acc: 0.9810\n",
            "Epoch 9/20\n",
            "60000/60000 [==============================] - 1s 11us/step - loss: 0.0040 - acc: 0.9985 - val_loss: 0.0931 - val_acc: 0.9796\n",
            "Epoch 10/20\n",
            "60000/60000 [==============================] - 1s 11us/step - loss: 0.0030 - acc: 0.9991 - val_loss: 0.1077 - val_acc: 0.9798\n",
            "Epoch 11/20\n",
            "60000/60000 [==============================] - 1s 11us/step - loss: 0.0025 - acc: 0.9992 - val_loss: 0.1035 - val_acc: 0.9802\n",
            "Epoch 12/20\n",
            "60000/60000 [==============================] - 1s 11us/step - loss: 0.0021 - acc: 0.9993 - val_loss: 0.1113 - val_acc: 0.9795\n",
            "Epoch 13/20\n",
            "60000/60000 [==============================] - 1s 11us/step - loss: 0.0014 - acc: 0.9995 - val_loss: 0.1041 - val_acc: 0.9818\n",
            "Epoch 14/20\n",
            "60000/60000 [==============================] - 1s 11us/step - loss: 0.0021 - acc: 0.9995 - val_loss: 0.1141 - val_acc: 0.9808\n",
            "Epoch 15/20\n",
            "60000/60000 [==============================] - 1s 11us/step - loss: 0.0014 - acc: 0.9996 - val_loss: 0.1347 - val_acc: 0.9797\n",
            "Epoch 16/20\n",
            "60000/60000 [==============================] - 1s 11us/step - loss: 7.1927e-04 - acc: 0.9998 - val_loss: 0.1311 - val_acc: 0.9801\n",
            "Epoch 17/20\n",
            "60000/60000 [==============================] - 1s 11us/step - loss: 6.1069e-04 - acc: 0.9998 - val_loss: 0.1332 - val_acc: 0.9801\n",
            "Epoch 18/20\n",
            "60000/60000 [==============================] - 1s 11us/step - loss: 0.0011 - acc: 0.9997 - val_loss: 0.1796 - val_acc: 0.9727\n",
            "Epoch 19/20\n",
            "60000/60000 [==============================] - 1s 11us/step - loss: 9.7501e-04 - acc: 0.9998 - val_loss: 0.1393 - val_acc: 0.9797\n",
            "Epoch 20/20\n",
            "60000/60000 [==============================] - 1s 11us/step - loss: 7.7916e-04 - acc: 0.9998 - val_loss: 0.1316 - val_acc: 0.9806\n"
          ],
          "name": "stdout"
        }
      ]
    },
    {
      "cell_type": "code",
      "metadata": {
        "id": "RsPWWNvV6RYV",
        "colab_type": "code",
        "outputId": "8b27f629-2678-44df-ac0a-8c3ae498b184",
        "colab": {
          "base_uri": "https://localhost:8080/",
          "height": 241
        }
      },
      "source": [
        "visualize_loss_and_acc(s2d_history)\n"
      ],
      "execution_count": 0,
      "outputs": [
        {
          "output_type": "display_data",
          "data": {
            "image/png": "[encoded data removed]",
            "text/plain": [
              "<Figure size 720x216 with 2 Axes>"
            ]
          },
          "metadata": {
            "tags": []
          }
        }
      ]
    },
    {
      "cell_type": "code",
      "metadata": {
        "id": "lgdnl9g96V84",
        "colab_type": "code",
        "colab": {}
      },
      "source": [
        "s2d_mlp.save(str('s2d_mlp.h5'))\n"
      ],
      "execution_count": 0,
      "outputs": []
    },
    {
      "cell_type": "markdown",
      "metadata": {
        "id": "ZKbTP0_F6hjO",
        "colab_type": "text"
      },
      "source": [
        "# **3 Dropout**\n",
        "As you see, the validation error of the model starts to grow around epoch 5. But, our network is being optimized on the training loss during this time and its error is continuously reduced if the training dataset is not big enough (which is the case here). The model has mastered the task on the training set, but the learned network doesn't generalize to new examples that it has never seen!\n",
        "\n",
        "Dropout is one of the most common regularization techniques used to prevent overfitting. It randomly shuts down some neurons in each iteration.\n",
        "\n",
        "The reasons that why Dropout helps model generalization (not overfitting) is :\n",
        "\n",
        "\n",
        "1.   Not all connections between neurons are really necessary! by using dropout we zero down some of them (in each iteration), forcing our model to learn data with less number of connections (or neurons) leading to a simpler model with higher generalization power.\n",
        "2.   On the other hand, changing dropped neurons in each iteration makes our models an implicit ensemble of simpler neural networks, each learned the data in a different way. so we have many simple and diverse models which is expected to be better in generalization\n",
        "3.   Also we can interpret dropout as adding noise in output layer of each layer. this can break up insignificant patterns that occur in each layer, which our network would tend to memorize in training without dropout.\n",
        "\n",
        "[Thanks to my friend Mohsen Tabassy for explaining these reasons]\n",
        "\n"
      ]
    },
    {
      "cell_type": "code",
      "metadata": {
        "id": "HqJ5aINQ6cx1",
        "colab_type": "code",
        "outputId": "a39cdf38-2912-4187-bbee-5347b4f211b9",
        "colab": {
          "base_uri": "https://localhost:8080/",
          "height": 774
        }
      },
      "source": [
        "ss_mlp = Sequential()\n",
        "ss_mlp.add(Dense(16, activation='relu', input_shape=(1024,)))\n",
        "ss_mlp.add(Dense(16, activation='relu'))\n",
        "ss_mlp.add(Dense(10, activation='sigmoid'))\n",
        "\n",
        "ss_mlp.compile(optimizer='rmsprop', \n",
        "              loss='binary_crossentropy', \n",
        "              metrics=['acc'])\n",
        "\n",
        "ss_mlp_history = ss_mlp.fit(x_train, \n",
        "                                y_train, \n",
        "                                epochs=20, \n",
        "                                batch_size=512,\n",
        "                            validation_data=(x_test, y_test))\n",
        "\n",
        "print(\"Accuracy on Test set is:\", ss_mlp.evaluate(x_test, y_test)[1])"
      ],
      "execution_count": 0,
      "outputs": [
        {
          "output_type": "stream",
          "text": [
            "Train on 60000 samples, validate on 20000 samples\n",
            "Epoch 1/20\n",
            "60000/60000 [==============================] - 1s 13us/step - loss: 0.2123 - acc: 0.9274 - val_loss: 0.1190 - val_acc: 0.9578\n",
            "Epoch 2/20\n",
            "60000/60000 [==============================] - 1s 10us/step - loss: 0.0580 - acc: 0.9830 - val_loss: 0.0802 - val_acc: 0.9732\n",
            "Epoch 3/20\n",
            "60000/60000 [==============================] - 1s 10us/step - loss: 0.0400 - acc: 0.9883 - val_loss: 0.0651 - val_acc: 0.9789\n",
            "Epoch 4/20\n",
            "60000/60000 [==============================] - 1s 9us/step - loss: 0.0328 - acc: 0.9906 - val_loss: 0.0573 - val_acc: 0.9823\n",
            "Epoch 5/20\n",
            "60000/60000 [==============================] - 1s 9us/step - loss: 0.0287 - acc: 0.9919 - val_loss: 0.0525 - val_acc: 0.9841\n",
            "Epoch 6/20\n",
            "60000/60000 [==============================] - 1s 9us/step - loss: 0.0260 - acc: 0.9926 - val_loss: 0.0487 - val_acc: 0.9853\n",
            "Epoch 7/20\n",
            "60000/60000 [==============================] - 1s 9us/step - loss: 0.0240 - acc: 0.9931 - val_loss: 0.0475 - val_acc: 0.9857\n",
            "Epoch 8/20\n",
            "60000/60000 [==============================] - 1s 9us/step - loss: 0.0224 - acc: 0.9935 - val_loss: 0.0500 - val_acc: 0.9849\n",
            "Epoch 9/20\n",
            "60000/60000 [==============================] - 1s 10us/step - loss: 0.0212 - acc: 0.9939 - val_loss: 0.0449 - val_acc: 0.9863\n",
            "Epoch 10/20\n",
            "60000/60000 [==============================] - 1s 9us/step - loss: 0.0201 - acc: 0.9941 - val_loss: 0.0447 - val_acc: 0.9864\n",
            "Epoch 11/20\n",
            "60000/60000 [==============================] - 1s 10us/step - loss: 0.0192 - acc: 0.9945 - val_loss: 0.0430 - val_acc: 0.9873\n",
            "Epoch 12/20\n",
            "60000/60000 [==============================] - 1s 9us/step - loss: 0.0184 - acc: 0.9946 - val_loss: 0.0403 - val_acc: 0.9883\n",
            "Epoch 13/20\n",
            "60000/60000 [==============================] - 1s 10us/step - loss: 0.0177 - acc: 0.9948 - val_loss: 0.0406 - val_acc: 0.9879\n",
            "Epoch 14/20\n",
            "60000/60000 [==============================] - 1s 9us/step - loss: 0.0171 - acc: 0.9950 - val_loss: 0.0399 - val_acc: 0.9884\n",
            "Epoch 15/20\n",
            "60000/60000 [==============================] - 1s 10us/step - loss: 0.0164 - acc: 0.9952 - val_loss: 0.0398 - val_acc: 0.9882\n",
            "Epoch 16/20\n",
            "60000/60000 [==============================] - 1s 10us/step - loss: 0.0159 - acc: 0.9954 - val_loss: 0.0403 - val_acc: 0.9881\n",
            "Epoch 17/20\n",
            "60000/60000 [==============================] - 1s 9us/step - loss: 0.0155 - acc: 0.9955 - val_loss: 0.0382 - val_acc: 0.9888\n",
            "Epoch 18/20\n",
            "60000/60000 [==============================] - 1s 9us/step - loss: 0.0150 - acc: 0.9957 - val_loss: 0.0381 - val_acc: 0.9890\n",
            "Epoch 19/20\n",
            "60000/60000 [==============================] - 1s 9us/step - loss: 0.0146 - acc: 0.9959 - val_loss: 0.0376 - val_acc: 0.9889\n",
            "Epoch 20/20\n",
            "60000/60000 [==============================] - 1s 9us/step - loss: 0.0142 - acc: 0.9959 - val_loss: 0.0378 - val_acc: 0.9889\n",
            "20000/20000 [==============================] - 1s 36us/step\n",
            "Accuracy on Test set is: 0.9889349990844727\n"
          ],
          "name": "stdout"
        }
      ]
    },
    {
      "cell_type": "code",
      "metadata": {
        "id": "BHV7WQBk8ZOZ",
        "colab_type": "code",
        "outputId": "17322e25-7123-4f01-c957-9be0f88ee172",
        "colab": {
          "base_uri": "https://localhost:8080/",
          "height": 241
        }
      },
      "source": [
        "visualize_loss_and_acc(ss_mlp_history)\n"
      ],
      "execution_count": 0,
      "outputs": [
        {
          "output_type": "display_data",
          "data": {
            "image/png": "[encoded data removed]",
            "text/plain": [
              "<Figure size 720x216 with 2 Axes>"
            ]
          },
          "metadata": {
            "tags": []
          }
        }
      ]
    },
    {
      "cell_type": "markdown",
      "metadata": {
        "id": "4u6BnbyZ9SqL",
        "colab_type": "text"
      },
      "source": [
        "As you can see, The model is overfitting quite fast! In this section you have to change the model, its prameters, and maybe add new layers to improve overfitting!"
      ]
    },
    {
      "cell_type": "code",
      "metadata": {
        "id": "jGPq_ByK8rE8",
        "colab_type": "code",
        "outputId": "1344560c-9569-4211-eb73-b1618c411c67",
        "colab": {
          "base_uri": "https://localhost:8080/",
          "height": 847
        }
      },
      "source": [
        "ss_imprv = Sequential()\n",
        "\n",
        "ss_imprv.add(Dense(16, activation='relu'))\n",
        "ss_imprv.add(Dropout(0.5))                         # hidden layer dropout\n",
        "ss_imprv.add(Dense(16, activation='relu'))         \n",
        "ss_imprv.add(Dropout(0.5))                         # hidden layer dropout\n",
        "ss_imprv.add(Dense(10, activation='sigmoid'))\n",
        "\n",
        "ss_imprv.compile(optimizer='rmsprop', \n",
        "              loss='binary_crossentropy', \n",
        "              metrics=['acc'])\n",
        "\n",
        "ss_imprv_history = ss_imprv.fit(x_train, \n",
        "                                y_train, \n",
        "                                epochs=20, \n",
        "                                batch_size=512, \n",
        "                                validation_data=(x_test, y_test))\n",
        "\n",
        "print(\"Accuracy on Test set is:\", ss_imprv.evaluate(x_test, y_test)[1])"
      ],
      "execution_count": 0,
      "outputs": [
        {
          "output_type": "stream",
          "text": [
            "W0709 17:13:44.230825 139738805720960 deprecation.py:506] From /usr/local/lib/python3.6/dist-packages/keras/backend/tensorflow_backend.py:3445: calling dropout (from tensorflow.python.ops.nn_ops) with keep_prob is deprecated and will be removed in a future version.\n",
            "Instructions for updating:\n",
            "Please use `rate` instead of `keep_prob`. Rate should be set to `rate = 1 - keep_prob`.\n"
          ],
          "name": "stderr"
        },
        {
          "output_type": "stream",
          "text": [
            "Train on 60000 samples, validate on 20000 samples\n",
            "Epoch 1/20\n",
            "60000/60000 [==============================] - 1s 16us/step - loss: 0.4981 - acc: 0.7681 - val_loss: 0.2981 - val_acc: 0.9086\n",
            "Epoch 2/20\n",
            "60000/60000 [==============================] - 1s 10us/step - loss: 0.3448 - acc: 0.8742 - val_loss: 0.2043 - val_acc: 0.9236\n",
            "Epoch 3/20\n",
            "60000/60000 [==============================] - 1s 10us/step - loss: 0.2780 - acc: 0.9013 - val_loss: 0.1612 - val_acc: 0.9327\n",
            "Epoch 4/20\n",
            "60000/60000 [==============================] - 1s 10us/step - loss: 0.2449 - acc: 0.9114 - val_loss: 0.1372 - val_acc: 0.9482\n",
            "Epoch 5/20\n",
            "60000/60000 [==============================] - 1s 10us/step - loss: 0.2233 - acc: 0.9179 - val_loss: 0.1245 - val_acc: 0.9543\n",
            "Epoch 6/20\n",
            "60000/60000 [==============================] - 1s 10us/step - loss: 0.2088 - acc: 0.9222 - val_loss: 0.1174 - val_acc: 0.9557\n",
            "Epoch 7/20\n",
            "60000/60000 [==============================] - 1s 10us/step - loss: 0.2017 - acc: 0.9245 - val_loss: 0.1121 - val_acc: 0.9571\n",
            "Epoch 8/20\n",
            "60000/60000 [==============================] - 1s 10us/step - loss: 0.1959 - acc: 0.9259 - val_loss: 0.1091 - val_acc: 0.9573\n",
            "Epoch 9/20\n",
            "60000/60000 [==============================] - 1s 10us/step - loss: 0.1909 - acc: 0.9269 - val_loss: 0.1067 - val_acc: 0.9597\n",
            "Epoch 10/20\n",
            "60000/60000 [==============================] - 1s 10us/step - loss: 0.1868 - acc: 0.9279 - val_loss: 0.1072 - val_acc: 0.9577\n",
            "Epoch 11/20\n",
            "60000/60000 [==============================] - 1s 10us/step - loss: 0.1837 - acc: 0.9288 - val_loss: 0.1053 - val_acc: 0.9586\n",
            "Epoch 12/20\n",
            "60000/60000 [==============================] - 1s 10us/step - loss: 0.1804 - acc: 0.9296 - val_loss: 0.1044 - val_acc: 0.9575\n",
            "Epoch 13/20\n",
            "60000/60000 [==============================] - 1s 12us/step - loss: 0.1793 - acc: 0.9297 - val_loss: 0.1053 - val_acc: 0.9560\n",
            "Epoch 14/20\n",
            "60000/60000 [==============================] - 1s 10us/step - loss: 0.1783 - acc: 0.9297 - val_loss: 0.1045 - val_acc: 0.9568\n",
            "Epoch 15/20\n",
            "60000/60000 [==============================] - 1s 10us/step - loss: 0.1766 - acc: 0.9302 - val_loss: 0.1042 - val_acc: 0.9567\n",
            "Epoch 16/20\n",
            "60000/60000 [==============================] - 1s 10us/step - loss: 0.1754 - acc: 0.9303 - val_loss: 0.1017 - val_acc: 0.9576\n",
            "Epoch 17/20\n",
            "60000/60000 [==============================] - 1s 10us/step - loss: 0.1744 - acc: 0.9307 - val_loss: 0.1022 - val_acc: 0.9569\n",
            "Epoch 18/20\n",
            "60000/60000 [==============================] - 1s 10us/step - loss: 0.1730 - acc: 0.9310 - val_loss: 0.1031 - val_acc: 0.9567\n",
            "Epoch 19/20\n",
            "60000/60000 [==============================] - 1s 10us/step - loss: 0.1723 - acc: 0.9312 - val_loss: 0.1008 - val_acc: 0.9576\n",
            "Epoch 20/20\n",
            "60000/60000 [==============================] - 1s 10us/step - loss: 0.1713 - acc: 0.9313 - val_loss: 0.1022 - val_acc: 0.9555\n",
            "20000/20000 [==============================] - 1s 39us/step\n",
            "Accuracy on Test set is: 0.9555199938774109\n"
          ],
          "name": "stdout"
        }
      ]
    },
    {
      "cell_type": "markdown",
      "metadata": {
        "id": "Xrgkqrqq9zQ_",
        "colab_type": "text"
      },
      "source": [
        "Improves model:"
      ]
    },
    {
      "cell_type": "code",
      "metadata": {
        "id": "dBoks9Vs9ltP",
        "colab_type": "code",
        "outputId": "f24f107c-66c6-48c1-88ed-e86ad16ee4af",
        "colab": {
          "base_uri": "https://localhost:8080/",
          "height": 241
        }
      },
      "source": [
        "visualize_loss_and_acc(ss_imprv_history)"
      ],
      "execution_count": 0,
      "outputs": [
        {
          "output_type": "display_data",
          "data": {
            "image/png": "[encoded data removed]",
            "text/plain": [
              "<Figure size 720x216 with 2 Axes>"
            ]
          },
          "metadata": {
            "tags": []
          }
        }
      ]
    },
    {
      "cell_type": "markdown",
      "metadata": {
        "id": "RpHaMulx9xZD",
        "colab_type": "text"
      },
      "source": [
        "Base model:"
      ]
    },
    {
      "cell_type": "code",
      "metadata": {
        "id": "YdAufY-v9uhE",
        "colab_type": "code",
        "outputId": "68fbf862-08d2-47e8-e798-ed13d026537d",
        "colab": {
          "base_uri": "https://localhost:8080/",
          "height": 241
        }
      },
      "source": [
        "visualize_loss_and_acc(ss_mlp_history)\n"
      ],
      "execution_count": 0,
      "outputs": [
        {
          "output_type": "display_data",
          "data": {
            "image/png": "[encoded data removed]",
            "text/plain": [
              "<Figure size 720x216 with 2 Axes>"
            ]
          },
          "metadata": {
            "tags": []
          }
        }
      ]
    },
    {
      "cell_type": "code",
      "metadata": {
        "id": "mjjX1H4t94h7",
        "colab_type": "code",
        "colab": {}
      },
      "source": [
        "ss_imprv.save(str('imdb_imprv.h5'))"
      ],
      "execution_count": 0,
      "outputs": []
    },
    {
      "cell_type": "markdown",
      "metadata": {
        "id": "s6r0jtjhUflo",
        "colab_type": "text"
      },
      "source": [
        "# **batch normalization**"
      ]
    },
    {
      "cell_type": "code",
      "metadata": {
        "id": "Qb_OMDlY-Dur",
        "colab_type": "code",
        "colab": {}
      },
      "source": [
        "import keras\n",
        "from keras import backend as K\n",
        "from keras.models import Sequential\n",
        "from keras.layers import Layer, Dense, Activation, Dropout, Flatten\n",
        "from keras.layers import Conv2D, MaxPooling2D\n",
        "from keras.layers.normalization import BatchNormalization\n",
        "from keras.utils import to_categorical"
      ],
      "execution_count": 0,
      "outputs": []
    },
    {
      "cell_type": "code",
      "metadata": {
        "id": "cRqj7Be-Uxjo",
        "colab_type": "code",
        "colab": {}
      },
      "source": [
        "class BatchNormalizedLayer(Layer):\n",
        "  def __init__(self, layer, axis=-1, activation=None, **kwargs):\n",
        "    \"\"\"Runs batch normalization on layer instance and applies the activation function\n",
        "    \n",
        "    Args:\n",
        "      layer(layers.Layer): A layer to normalize its output\n",
        "      axis(int): the axis that should be normalized (typically the features axis).\n",
        "      activation(str): Activation function to use\n",
        "    \"\"\"\n",
        "    super(BatchNormalizedLayer, self).__init__(**kwargs)\n",
        "    \n",
        "    self.layer = layer\n",
        "    self.activation = activation\n",
        "    self.axis = axis\n",
        "    \n",
        "    self.batch_norm = BatchNormalization(axis=self.axis)\n",
        "    self.act_fn = Activation(self.activation)\n",
        "    \n",
        "  def compute_output_shape(self, input_shape):\n",
        "    return self.layer.compute_output_shape(input_shape)\n",
        "    \n",
        "  def call(self, inputs, training=None):\n",
        "\n",
        "    x = self.layer(inputs)\n",
        "    x = self.batch_norm(x, training=training)\n",
        "    x = self.act_fn(x)\n",
        "    \n",
        "    self.trainable_weights += self.layer.trainable_weights + self.batch_norm.trainable_weights\n",
        "    self.non_trainable_weights += self.layer.non_trainable_weights + self.batch_norm.non_trainable_weights\n",
        "    \n",
        "    return x"
      ],
      "execution_count": 0,
      "outputs": []
    },
    {
      "cell_type": "code",
      "metadata": {
        "id": "8msEZXcrVIUb",
        "colab_type": "code",
        "colab": {}
      },
      "source": [
        "import numpy as np\n",
        "\n",
        "bnl = BatchNormalizedLayer(Dense(5), activation='relu')\n",
        "x = K.constant(2.5 * np.random.randn(10, 4) + 3)\n",
        "\n",
        "assert K.eval(bnl(x)).shape == (10, 5)"
      ],
      "execution_count": 0,
      "outputs": []
    },
    {
      "cell_type": "markdown",
      "metadata": {
        "id": "3QGgWFDNVPO2",
        "colab_type": "text"
      },
      "source": [
        "# **CNN**\n",
        "\n",
        "Now we have our special layer. So, let's use it in a real neural network. We want to improve the baseline using the Batch Normalization layer. Our desired task is farsi_handwritten_numbers image classification."
      ]
    },
    {
      "cell_type": "code",
      "metadata": {
        "id": "xKy4YgMuVRwv",
        "colab_type": "code",
        "outputId": "5eedc319-297a-4a9d-964a-60f780a3ee50",
        "colab": {
          "base_uri": "https://localhost:8080/",
          "height": 70
        }
      },
      "source": [
        "import numpy as np\n",
        "import matplotlib.pyplot as plt\n",
        "\n",
        "num_classes = 10\n",
        "\n",
        "# Convert class vectors to binary class matrices.\n",
        "y_train = to_categorical(y_train, num_classes)\n",
        "y_test = to_categorical(y_test, num_classes)\n",
        "\n",
        "print('x_train shape:', x_train.shape)\n",
        "print(x_train.shape[0], 'train samples')\n",
        "print(x_test.shape[0], 'test samples')\n",
        "\n",
        "# fig, axes1 = plt.subplots(2,5,figsize=(10,4))\n",
        "# for j in range(2):\n",
        "#   for k in range(5):\n",
        "#     i = np.random.choice(range(len(x_train)))\n",
        "#     axes1[j][k].set_axis_off()\n",
        "#     axes1[j][k].imshow(x_train[i:i+1][0])\n",
        "        \n",
        "# Normalize\n",
        "x_train = x_train.astype('float32')\n",
        "x_test = x_test.astype('float32')\n",
        "x_train /= 255\n",
        "x_test /= 255"
      ],
      "execution_count": 0,
      "outputs": [
        {
          "output_type": "stream",
          "text": [
            "x_train shape: (60000, 1024)\n",
            "60000 train samples\n",
            "20000 test samples\n"
          ],
          "name": "stdout"
        }
      ]
    },
    {
      "cell_type": "code",
      "metadata": {
        "id": "vn9yv49VWDeP",
        "colab_type": "code",
        "colab": {}
      },
      "source": [
        "def visualize_loss_and_acc(history):\n",
        "  history_dict = history.history\n",
        "  loss_values = history_dict['loss']\n",
        "  val_loss_values = history_dict['val_loss']\n",
        "  acc = history_dict['acc']\n",
        "\n",
        "  epochs = range(1, len(acc) + 1)\n",
        "\n",
        "  f = plt.figure(figsize=(10,3))\n",
        "\n",
        "  plt.subplot(1,2,1)\n",
        "  plt.plot(epochs, loss_values, 'bo', label='Training loss')\n",
        "  plt.plot(epochs, val_loss_values, 'b', label='Validation loss')\n",
        "  plt.title('Training and validation loss')\n",
        "  plt.xlabel('Epochs')\n",
        "  plt.ylabel('Loss')\n",
        "  plt.legend()\n",
        "\n",
        "\n",
        "  acc_values = history_dict['acc']\n",
        "  val_acc = history_dict['val_acc']\n",
        "\n",
        "  plt.subplot(1,2,2)\n",
        "  plt.plot(epochs, acc, 'bo', label='Training acc')\n",
        "  plt.plot(epochs, val_acc, 'b', label='Validation acc')\n",
        "  plt.title('Training and validation accuracy')\n",
        "  plt.xlabel('Epochs')\n",
        "  plt.ylabel('Loss')\n",
        "  plt.legend()\n",
        "\n",
        "  plt.show()"
      ],
      "execution_count": 0,
      "outputs": []
    },
    {
      "cell_type": "markdown",
      "metadata": {
        "id": "oTa92lgbWL6v",
        "colab_type": "text"
      },
      "source": [
        "define the baseline model"
      ]
    },
    {
      "cell_type": "code",
      "metadata": {
        "id": "HmcFzVl6vAK8",
        "colab_type": "code",
        "outputId": "5c9fddd6-d960-48b2-8d20-e5d8fdd8910b",
        "colab": {
          "base_uri": "https://localhost:8080/",
          "height": 35
        }
      },
      "source": [
        "x_train.shape"
      ],
      "execution_count": 0,
      "outputs": [
        {
          "output_type": "execute_result",
          "data": {
            "text/plain": [
              "(60000, 1024)"
            ]
          },
          "metadata": {
            "tags": []
          },
          "execution_count": 42
        }
      ]
    },
    {
      "cell_type": "code",
      "metadata": {
        "id": "VWQ6psp0WPVD",
        "colab_type": "code",
        "colab": {}
      },
      "source": [
        "def get_baseline_model():\n",
        "  model = Sequential()\n",
        "  model.add(Conv2D(32, (3, 3), padding='same',\n",
        "                   input_shape=x_train.shape[1:]))\n",
        "  model.add(Activation('relu'))\n",
        "  model.add(Conv2D(32, (3, 3)))\n",
        "  model.add(Activation('relu'))\n",
        "  model.add(MaxPooling2D(pool_size=(2, 2)))\n",
        "  model.add(Dropout(0.25))\n",
        "\n",
        "  model.add(Conv2D(64, (3, 3), padding='same'))\n",
        "  model.add(Activation('relu'))\n",
        "  model.add(Conv2D(64, (3, 3)))\n",
        "  model.add(Activation('relu'))\n",
        "  model.add(MaxPooling2D(pool_size=(2, 2)))\n",
        "  model.add(Dropout(0.25))\n",
        "\n",
        "  model.add(Flatten())\n",
        "  model.add(Dense(512))\n",
        "  model.add(Activation('relu'))\n",
        "  model.add(Dropout(0.5))\n",
        "  model.add(Dense(num_classes))\n",
        "  model.add(Activation('softmax'))\n",
        "  \n",
        "  model.compile(loss='categorical_crossentropy',\n",
        "                optimizer=keras.optimizers.rmsprop(lr=0.0001, decay=1e-6),\n",
        "                metrics=['accuracy'])\n",
        "  \n",
        "  return model"
      ],
      "execution_count": 0,
      "outputs": []
    },
    {
      "cell_type": "markdown",
      "metadata": {
        "id": "vRPV4CWXWVrU",
        "colab_type": "text"
      },
      "source": [
        "create baseline model"
      ]
    },
    {
      "cell_type": "code",
      "metadata": {
        "id": "b_wrBublWSPp",
        "colab_type": "code",
        "colab": {}
      },
      "source": [
        "batch_size = 32\n",
        "epochs = 25"
      ],
      "execution_count": 0,
      "outputs": []
    },
    {
      "cell_type": "code",
      "metadata": {
        "id": "j7BzCaKFWU5l",
        "colab_type": "code",
        "outputId": "29ca768b-c5a8-4de5-dcb2-a0b64b9901d4",
        "colab": {
          "base_uri": "https://localhost:8080/",
          "height": 385
        }
      },
      "source": [
        "# Create the baseline model\n",
        "baseline = get_baseline_model()\n",
        "\n",
        "# Train model\n",
        "bs_history = baseline.fit(\n",
        "    x_train, y_train,\n",
        "    batch_size=batch_size,\n",
        "    epochs=epochs,\n",
        "    validation_data=(x_test, y_test),\n",
        "    shuffle=True\n",
        ")"
      ],
      "execution_count": 0,
      "outputs": [
        {
          "output_type": "error",
          "ename": "ValueError",
          "evalue": "ignored",
          "traceback": [
            "\u001b[0;31m---------------------------------------------------------------------------\u001b[0m",
            "\u001b[0;31mValueError\u001b[0m                                Traceback (most recent call last)",
            "\u001b[0;32m<ipython-input-41-f5497dedd85b>\u001b[0m in \u001b[0;36m<module>\u001b[0;34m()\u001b[0m\n\u001b[0;32m----> 1\u001b[0;31m \u001b[0mbaseline\u001b[0m \u001b[0;34m=\u001b[0m \u001b[0mget_baseline_model\u001b[0m\u001b[0;34m(\u001b[0m\u001b[0;34m)\u001b[0m\u001b[0;34m\u001b[0m\u001b[0;34m\u001b[0m\u001b[0m\n\u001b[0m\u001b[1;32m      2\u001b[0m \u001b[0;34m\u001b[0m\u001b[0m\n\u001b[1;32m      3\u001b[0m \u001b[0;31m# Train model\u001b[0m\u001b[0;34m\u001b[0m\u001b[0;34m\u001b[0m\u001b[0;34m\u001b[0m\u001b[0m\n\u001b[1;32m      4\u001b[0m bs_history = baseline.fit(\n\u001b[1;32m      5\u001b[0m     \u001b[0mx_train\u001b[0m\u001b[0;34m,\u001b[0m \u001b[0my_train\u001b[0m\u001b[0;34m,\u001b[0m\u001b[0;34m\u001b[0m\u001b[0;34m\u001b[0m\u001b[0m\n",
            "\u001b[0;32m<ipython-input-38-21dfa1c0445c>\u001b[0m in \u001b[0;36mget_baseline_model\u001b[0;34m()\u001b[0m\n\u001b[1;32m      2\u001b[0m   \u001b[0mmodel\u001b[0m \u001b[0;34m=\u001b[0m \u001b[0mSequential\u001b[0m\u001b[0;34m(\u001b[0m\u001b[0;34m)\u001b[0m\u001b[0;34m\u001b[0m\u001b[0;34m\u001b[0m\u001b[0m\n\u001b[1;32m      3\u001b[0m   model.add(Conv2D(32, (3, 3), padding='same',\n\u001b[0;32m----> 4\u001b[0;31m                    input_shape=x_train.shape[1:]))\n\u001b[0m\u001b[1;32m      5\u001b[0m   \u001b[0mmodel\u001b[0m\u001b[0;34m.\u001b[0m\u001b[0madd\u001b[0m\u001b[0;34m(\u001b[0m\u001b[0mActivation\u001b[0m\u001b[0;34m(\u001b[0m\u001b[0;34m'relu'\u001b[0m\u001b[0;34m)\u001b[0m\u001b[0;34m)\u001b[0m\u001b[0;34m\u001b[0m\u001b[0;34m\u001b[0m\u001b[0m\n\u001b[1;32m      6\u001b[0m   \u001b[0mmodel\u001b[0m\u001b[0;34m.\u001b[0m\u001b[0madd\u001b[0m\u001b[0;34m(\u001b[0m\u001b[0mConv2D\u001b[0m\u001b[0;34m(\u001b[0m\u001b[0;36m32\u001b[0m\u001b[0;34m,\u001b[0m \u001b[0;34m(\u001b[0m\u001b[0;36m3\u001b[0m\u001b[0;34m,\u001b[0m \u001b[0;36m3\u001b[0m\u001b[0;34m)\u001b[0m\u001b[0;34m)\u001b[0m\u001b[0;34m)\u001b[0m\u001b[0;34m\u001b[0m\u001b[0;34m\u001b[0m\u001b[0m\n",
            "\u001b[0;32m/usr/local/lib/python3.6/dist-packages/keras/engine/sequential.py\u001b[0m in \u001b[0;36madd\u001b[0;34m(self, layer)\u001b[0m\n\u001b[1;32m    163\u001b[0m                     \u001b[0;31m# and create the node connecting the current layer\u001b[0m\u001b[0;34m\u001b[0m\u001b[0;34m\u001b[0m\u001b[0;34m\u001b[0m\u001b[0m\n\u001b[1;32m    164\u001b[0m                     \u001b[0;31m# to the input layer we just created.\u001b[0m\u001b[0;34m\u001b[0m\u001b[0;34m\u001b[0m\u001b[0;34m\u001b[0m\u001b[0m\n\u001b[0;32m--> 165\u001b[0;31m                     \u001b[0mlayer\u001b[0m\u001b[0;34m(\u001b[0m\u001b[0mx\u001b[0m\u001b[0;34m)\u001b[0m\u001b[0;34m\u001b[0m\u001b[0;34m\u001b[0m\u001b[0m\n\u001b[0m\u001b[1;32m    166\u001b[0m                     \u001b[0mset_inputs\u001b[0m \u001b[0;34m=\u001b[0m \u001b[0;32mTrue\u001b[0m\u001b[0;34m\u001b[0m\u001b[0;34m\u001b[0m\u001b[0m\n\u001b[1;32m    167\u001b[0m             \u001b[0;32melse\u001b[0m\u001b[0;34m:\u001b[0m\u001b[0;34m\u001b[0m\u001b[0;34m\u001b[0m\u001b[0m\n",
            "\u001b[0;32m/usr/local/lib/python3.6/dist-packages/keras/engine/base_layer.py\u001b[0m in \u001b[0;36m__call__\u001b[0;34m(self, inputs, **kwargs)\u001b[0m\n\u001b[1;32m    412\u001b[0m                 \u001b[0;31m# Raise exceptions in case the input is not compatible\u001b[0m\u001b[0;34m\u001b[0m\u001b[0;34m\u001b[0m\u001b[0;34m\u001b[0m\u001b[0m\n\u001b[1;32m    413\u001b[0m                 \u001b[0;31m# with the input_spec specified in the layer constructor.\u001b[0m\u001b[0;34m\u001b[0m\u001b[0;34m\u001b[0m\u001b[0;34m\u001b[0m\u001b[0m\n\u001b[0;32m--> 414\u001b[0;31m                 \u001b[0mself\u001b[0m\u001b[0;34m.\u001b[0m\u001b[0massert_input_compatibility\u001b[0m\u001b[0;34m(\u001b[0m\u001b[0minputs\u001b[0m\u001b[0;34m)\u001b[0m\u001b[0;34m\u001b[0m\u001b[0;34m\u001b[0m\u001b[0m\n\u001b[0m\u001b[1;32m    415\u001b[0m \u001b[0;34m\u001b[0m\u001b[0m\n\u001b[1;32m    416\u001b[0m                 \u001b[0;31m# Collect input shapes to build layer.\u001b[0m\u001b[0;34m\u001b[0m\u001b[0;34m\u001b[0m\u001b[0;34m\u001b[0m\u001b[0m\n",
            "\u001b[0;32m/usr/local/lib/python3.6/dist-packages/keras/engine/base_layer.py\u001b[0m in \u001b[0;36massert_input_compatibility\u001b[0;34m(self, inputs)\u001b[0m\n\u001b[1;32m    309\u001b[0m                                      \u001b[0mself\u001b[0m\u001b[0;34m.\u001b[0m\u001b[0mname\u001b[0m \u001b[0;34m+\u001b[0m \u001b[0;34m': expected ndim='\u001b[0m \u001b[0;34m+\u001b[0m\u001b[0;34m\u001b[0m\u001b[0;34m\u001b[0m\u001b[0m\n\u001b[1;32m    310\u001b[0m                                      \u001b[0mstr\u001b[0m\u001b[0;34m(\u001b[0m\u001b[0mspec\u001b[0m\u001b[0;34m.\u001b[0m\u001b[0mndim\u001b[0m\u001b[0;34m)\u001b[0m \u001b[0;34m+\u001b[0m \u001b[0;34m', found ndim='\u001b[0m \u001b[0;34m+\u001b[0m\u001b[0;34m\u001b[0m\u001b[0;34m\u001b[0m\u001b[0m\n\u001b[0;32m--> 311\u001b[0;31m                                      str(K.ndim(x)))\n\u001b[0m\u001b[1;32m    312\u001b[0m             \u001b[0;32mif\u001b[0m \u001b[0mspec\u001b[0m\u001b[0;34m.\u001b[0m\u001b[0mmax_ndim\u001b[0m \u001b[0;32mis\u001b[0m \u001b[0;32mnot\u001b[0m \u001b[0;32mNone\u001b[0m\u001b[0;34m:\u001b[0m\u001b[0;34m\u001b[0m\u001b[0;34m\u001b[0m\u001b[0m\n\u001b[1;32m    313\u001b[0m                 \u001b[0mndim\u001b[0m \u001b[0;34m=\u001b[0m \u001b[0mK\u001b[0m\u001b[0;34m.\u001b[0m\u001b[0mndim\u001b[0m\u001b[0;34m(\u001b[0m\u001b[0mx\u001b[0m\u001b[0;34m)\u001b[0m\u001b[0;34m\u001b[0m\u001b[0;34m\u001b[0m\u001b[0m\n",
            "\u001b[0;31mValueError\u001b[0m: Input 0 is incompatible with layer conv2d_1: expected ndim=4, found ndim=2"
          ]
        }
      ]
    },
    {
      "cell_type": "markdown",
      "metadata": {
        "id": "91P3OIOaWath",
        "colab_type": "text"
      },
      "source": [
        "visualizing model"
      ]
    },
    {
      "cell_type": "code",
      "metadata": {
        "id": "_m97qn-_WcY6",
        "colab_type": "code",
        "colab": {}
      },
      "source": [
        "visualize_loss_and_acc(bs_history)\n"
      ],
      "execution_count": 0,
      "outputs": []
    },
    {
      "cell_type": "code",
      "metadata": {
        "id": "RXtViNy8WemR",
        "colab_type": "code",
        "colab": {}
      },
      "source": [
        "# Score trained model.\n",
        "scores = baseline.evaluate(x_test, y_test, verbose=1)\n",
        "print('Test accuracy:', scores[1])"
      ],
      "execution_count": 0,
      "outputs": []
    }
  ]
}